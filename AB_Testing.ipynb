{
 "cells": [
  {
   "cell_type": "markdown",
   "metadata": {},
   "source": [
    "# Imports"
   ]
  },
  {
   "cell_type": "code",
   "execution_count": 1,
   "metadata": {},
   "outputs": [],
   "source": [
    "import pandas as pd\n",
    "import math\n",
    "import statsmodels.stats.api as sms\n",
    "import scipy.stats as st"
   ]
  },
  {
   "cell_type": "markdown",
   "metadata": {},
   "source": [
    "# Reading Data"
   ]
  },
  {
   "cell_type": "code",
   "execution_count": 2,
   "metadata": {},
   "outputs": [
    {
     "name": "stdout",
     "output_type": "stream",
     "text": [
      "Number of rows:  294478  Number of columns:  5\n"
     ]
    },
    {
     "data": {
      "text/html": [
       "<div>\n",
       "<style scoped>\n",
       "    .dataframe tbody tr th:only-of-type {\n",
       "        vertical-align: middle;\n",
       "    }\n",
       "\n",
       "    .dataframe tbody tr th {\n",
       "        vertical-align: top;\n",
       "    }\n",
       "\n",
       "    .dataframe thead th {\n",
       "        text-align: right;\n",
       "    }\n",
       "</style>\n",
       "<table border=\"1\" class=\"dataframe\">\n",
       "  <thead>\n",
       "    <tr style=\"text-align: right;\">\n",
       "      <th></th>\n",
       "      <th>user_id</th>\n",
       "      <th>timestamp</th>\n",
       "      <th>group</th>\n",
       "      <th>landing_page</th>\n",
       "      <th>converted</th>\n",
       "    </tr>\n",
       "  </thead>\n",
       "  <tbody>\n",
       "    <tr>\n",
       "      <th>0</th>\n",
       "      <td>851104</td>\n",
       "      <td>00:11:48.600000</td>\n",
       "      <td>control</td>\n",
       "      <td>old_page</td>\n",
       "      <td>0</td>\n",
       "    </tr>\n",
       "    <tr>\n",
       "      <th>1</th>\n",
       "      <td>804228</td>\n",
       "      <td>00:01:45.200000</td>\n",
       "      <td>control</td>\n",
       "      <td>old_page</td>\n",
       "      <td>0</td>\n",
       "    </tr>\n",
       "    <tr>\n",
       "      <th>2</th>\n",
       "      <td>661590</td>\n",
       "      <td>00:55:06.200000</td>\n",
       "      <td>treatment</td>\n",
       "      <td>new_page</td>\n",
       "      <td>0</td>\n",
       "    </tr>\n",
       "    <tr>\n",
       "      <th>3</th>\n",
       "      <td>853541</td>\n",
       "      <td>00:28:03.100000</td>\n",
       "      <td>treatment</td>\n",
       "      <td>new_page</td>\n",
       "      <td>0</td>\n",
       "    </tr>\n",
       "    <tr>\n",
       "      <th>4</th>\n",
       "      <td>864975</td>\n",
       "      <td>00:52:26.200000</td>\n",
       "      <td>control</td>\n",
       "      <td>old_page</td>\n",
       "      <td>1</td>\n",
       "    </tr>\n",
       "  </tbody>\n",
       "</table>\n",
       "</div>"
      ],
      "text/plain": [
       "   user_id        timestamp      group landing_page  converted\n",
       "0   851104  00:11:48.600000    control     old_page          0\n",
       "1   804228  00:01:45.200000    control     old_page          0\n",
       "2   661590  00:55:06.200000  treatment     new_page          0\n",
       "3   853541  00:28:03.100000  treatment     new_page          0\n",
       "4   864975  00:52:26.200000    control     old_page          1"
      ]
     },
     "execution_count": 2,
     "metadata": {},
     "output_type": "execute_result"
    }
   ],
   "source": [
    "raw_data = pd.read_excel(\"./ab_data.xlsx\", sheet_name='ab_data')\n",
    "df = raw_data.copy()\n",
    "\n",
    "print(\"Number of rows: \", df.shape[0], \" Number of columns: \", df.shape[1])\n",
    "df.head()"
   ]
  },
  {
   "cell_type": "markdown",
   "metadata": {},
   "source": [
    "## Group Distribution"
   ]
  },
  {
   "cell_type": "code",
   "execution_count": 4,
   "metadata": {},
   "outputs": [
    {
     "data": {
      "text/plain": [
       "treatment    145311\n",
       "control      145274\n",
       "Name: group, dtype: int64"
      ]
     },
     "execution_count": 4,
     "metadata": {},
     "output_type": "execute_result"
    }
   ],
   "source": [
    "df[\"group\"].value_counts()"
   ]
  },
  {
   "cell_type": "markdown",
   "metadata": {},
   "source": [
    "## Error in conducting the test"
   ]
  },
  {
   "cell_type": "code",
   "execution_count": 5,
   "metadata": {},
   "outputs": [
    {
     "name": "stdout",
     "output_type": "stream",
     "text": [
      "(290585, 5)\n"
     ]
    },
    {
     "data": {
      "text/plain": [
       "treatment    145311\n",
       "control      145274\n",
       "Name: group, dtype: int64"
      ]
     },
     "execution_count": 5,
     "metadata": {},
     "output_type": "execute_result"
    }
   ],
   "source": [
    "mask1 = (df[\"group\"] == \"control\") & (df[\"landing_page\"] == \"new_page\")\n",
    "index_to_drop1 = df[mask1].index\n",
    "df = df.drop(index_to_drop1)\n",
    "\n",
    "mask2 = (df[\"group\"] == \"treatment\") & (df[\"landing_page\"] == \"old_page\")\n",
    "index_to_drop2 = df[mask2].index\n",
    "df = df.drop(index_to_drop2)\n",
    "\n",
    "print(df.shape)\n",
    "df[\"group\"].value_counts()"
   ]
  },
  {
   "cell_type": "markdown",
   "metadata": {},
   "source": [
    "## Checking for duplicates"
   ]
  },
  {
   "cell_type": "code",
   "execution_count": 8,
   "metadata": {},
   "outputs": [
    {
     "name": "stdout",
     "output_type": "stream",
     "text": [
      "Total users in dataset 290585\n",
      "Total unique users in dataset 290584\n"
     ]
    }
   ],
   "source": [
    "print(\"Total users in dataset {}\".format(df[\"user_id\"].count()))\n",
    "print(\"Total unique users in dataset {}\".format(df[\"user_id\"].nunique()))\n",
    "\n",
    "#drop duplicated users\n",
    "df.drop_duplicates(subset ='user_id',keep ='first',inplace = True)"
   ]
  },
  {
   "cell_type": "code",
   "execution_count": 11,
   "metadata": {},
   "outputs": [
    {
     "name": "stdout",
     "output_type": "stream",
     "text": [
      "Split of control users who saw old page vs treatment users who saw new page:  49.99 % vs 50.01 %\n",
      "Number of control users who converted on old page:  17489\n",
      "Percentage of control users who converted:  12.04 %\n",
      "Number of treatment users who converted on new page:  17264\n",
      "Percentage of treatment users who converted:  11.88 %\n"
     ]
    }
   ],
   "source": [
    "mask = (df[\"group\"] == \"control\")\n",
    "conversions_control = df[\"converted\"][mask].sum()\n",
    "total_users_control = df[\"converted\"][mask].count()\n",
    "\n",
    "mask = (df[\"group\"] == \"treatment\")\n",
    "conversions_treatment = df[\"converted\"][mask].sum()\n",
    "total_users_treatment = df[\"converted\"][mask].count()\n",
    "\n",
    "print(\"Split of control users who saw old page vs treatment users who saw new page: \", \n",
    "          round(total_users_control / df[\"converted\"].count() * 100, 2), \"% vs\",\n",
    "          round((total_users_treatment / df[\"converted\"].count()) * 100, 2), \"%\")\n",
    "\n",
    "print(\"Number of control users who converted on old page: \", conversions_control)\n",
    "print(\"Percentage of control users who converted: \", round((conversions_control / total_users_control) * 100, 2), \"%\")\n",
    "\n",
    "mask = (df[\"group\"] == \"treatment\")\n",
    "print(\"Number of treatment users who converted on new page: \", conversions_treatment)\n",
    "print(\"Percentage of treatment users who converted: \", round((conversions_treatment/ total_users_treatment) * 100, 2), \"%\")"
   ]
  },
  {
   "cell_type": "markdown",
   "metadata": {},
   "source": [
    "# AB Test\n",
    "\n",
    "The null hypothesis is that that is no effect on change in control and treatment groups"
   ]
  },
  {
   "cell_type": "markdown",
   "metadata": {},
   "source": [
    "#### Set Test Parameters"
   ]
  },
  {
   "cell_type": "code",
   "execution_count": 12,
   "metadata": {},
   "outputs": [
    {
     "name": "stdout",
     "output_type": "stream",
     "text": [
      "Required sample size:  17209  per group\n"
     ]
    }
   ],
   "source": [
    "baseline_rate = conversions_control / total_users_control\n",
    "practical_significance = 0.01 #user defined\n",
    "confidence_level = 0.05 #user defined, for a 95% confidence interval\n",
    "sensitivity = 0.8 #user defined\n",
    "\n",
    "effect_size = sms.proportion_effectsize(\n",
    "    baseline_rate, \n",
    "    baseline_rate + practical_significance\n",
    ")\n",
    "\n",
    "sample_size = sms.NormalIndPower().solve_power(\n",
    "    effect_size = effect_size, \n",
    "    power = sensitivity, \n",
    "    alpha = confidence_level, \n",
    "    ratio=1\n",
    ")\n",
    "\n",
    "print(\"Required sample size: \", round(sample_size), \" per group\")"
   ]
  },
  {
   "cell_type": "markdown",
   "metadata": {},
   "source": [
    "#### A/B Test"
   ]
  },
  {
   "cell_type": "code",
   "execution_count": 13,
   "metadata": {},
   "outputs": [],
   "source": [
    "mask = (df[\"group\"] == \"control\")\n",
    "conversions_control = df[\"converted\"][mask].sum()\n",
    "total_users_control = df[\"converted\"][mask].count()\n",
    "\n",
    "mask = (df[\"group\"] == \"treatment\")\n",
    "conversions_treatment = df[\"converted\"][mask].sum()\n",
    "total_users_treatment = df[\"converted\"][mask].count()\n",
    "\n",
    "prob_pooled = (conversions_control + conversions_treatment) / (total_users_control + total_users_treatment)"
   ]
  },
  {
   "cell_type": "code",
   "execution_count": 15,
   "metadata": {},
   "outputs": [
    {
     "name": "stdout",
     "output_type": "stream",
     "text": [
      "The lower bound of the confidence interval is  -0.39 %\n",
      "The upper bound of the confidence interval is  0.08 %\n",
      "Do not reject the null hypothesis\n"
     ]
    }
   ],
   "source": [
    "se_pooled = math.sqrt(prob_pooled * (1 - prob_pooled) * (1 / total_users_control + 1 / total_users_treatment))\n",
    "z_score = st.norm.ppf(1 - confidence_level / 2)\n",
    "margin_of_error = se_pooled * z_score\n",
    "\n",
    "d_hat = (conversions_treatment / total_users_treatment) - (conversions_control / total_users_control)\n",
    "\n",
    "lower_bound = d_hat - margin_of_error\n",
    "upper_bound = d_hat + margin_of_error\n",
    "\n",
    "print(\"The lower bound of the confidence interval is \", round(lower_bound * 100, 2), \"%\")\n",
    "print(\"The upper bound of the confidence interval is \", round(upper_bound * 100, 2), \"%\")\n",
    "\n",
    "if practical_significance < lower_bound:\n",
    "    print(\"Reject null hypothesis\")\n",
    "else: \n",
    "    print(\"Do not reject the null hypothesis\")"
   ]
  },
  {
   "cell_type": "markdown",
   "metadata": {},
   "source": [
    "Since, there the testing indicates that the result is not statistically significant, we DO NOT reject the null hypothesis.\n",
    "\n",
    "In simple terms, with 95% confidence we can say that the new design does not add to the conversion rate!"
   ]
  }
 ],
 "metadata": {
  "kernelspec": {
   "display_name": "Python 3",
   "language": "python",
   "name": "python3"
  },
  "language_info": {
   "codemirror_mode": {
    "name": "ipython",
    "version": 3
   },
   "file_extension": ".py",
   "mimetype": "text/x-python",
   "name": "python",
   "nbconvert_exporter": "python",
   "pygments_lexer": "ipython3",
   "version": "3.8.3"
  }
 },
 "nbformat": 4,
 "nbformat_minor": 2
}
